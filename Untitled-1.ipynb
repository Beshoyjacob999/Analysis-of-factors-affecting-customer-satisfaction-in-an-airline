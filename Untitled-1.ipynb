{
 "cells": [
  {
   "cell_type": "code",
   "execution_count": 45,
   "id": "78a00b69",
   "metadata": {},
   "outputs": [
    {
     "name": "stdout",
     "output_type": "stream",
     "text": [
      "Overwriting app.py\n"
     ]
    }
   ],
   "source": [
    "%%writefile app.py\n",
    "import streamlit as st\n",
    "import numpy as np\n",
    "import pandas as pd\n",
    "import matplotlib.pyplot as plt\n",
    "import seaborn as sns\n",
    "from sklearn.model_selection import train_test_split\n",
    "from sklearn.tree import DecisionTreeClassifier\n",
    "from sklearn.metrics import accuracy_score\n",
    "from sklearn.tree import plot_tree\n",
    "from matplotlib.colors import LinearSegmentedColormap\n",
    "page_bg_color = \"\"\"\n",
    "<style>\n",
    "[data-testid=\"stAppViewContainer\"] { background-color: #626F47; }\n",
    "[data-testid=\"stSidebar\"] { background-color: #A4B465; }\n",
    "h1, h2, h3, h4, h5, h6 { color: #FFCF50; }\n",
    "select, button { background-color: #626F47 !important; color: #FFCF50 !important; border-radius: 10px !important; }\n",
    "body, p, div { color: #FFCF50; }\n",
    "header, [data-testid=\"stHeader\"] { background-color: #626F47 !important; }\n",
    "div[data-testid=\"stSelectbox\"] div[role=\"combobox\"],\n",
    "div[data-testid=\"stSelectbox\"] div[data-testid=\"stDropdownContainer\"],\n",
    "div[data-testid=\"stSelectbox\"] div[data-testid=\"stDropdownContainer\"] div {\n",
    "    background-color: black !important;\n",
    "    color: white !important;\n",
    "    border-radius: 5px !important;\n",
    "}\n",
    "</style>\n",
    "\"\"\"\n",
    "custom_cmap = LinearSegmentedColormap.from_list(\"custom_green\", [\"#FEFAE0\", \"#4A703B\"])\n",
    "st.markdown(page_bg_color, unsafe_allow_html=True)\n",
    "\n",
    "def style_plot(title=None, xlabel=None, ylabel=None):\n",
    "    ax = plt.gca()\n",
    "    fig = plt.gcf()\n",
    "    ax.set_facecolor('#626F47')\n",
    "    fig.patch.set_facecolor('#626F47')\n",
    "    ax.tick_params(axis='x', colors='#FFCF50')\n",
    "    ax.tick_params(axis='y', colors='#FFCF50')\n",
    "    ax.xaxis.label.set_color('#FFCF50')\n",
    "    ax.yaxis.label.set_color('#FFCF50')\n",
    "    if title: ax.set_title(title, color='#FFCF50')\n",
    "    if xlabel: ax.set_xlabel(xlabel, color='#FFCF50')\n",
    "    if ylabel: ax.set_ylabel(ylabel, color='#FFCF50')\n",
    "\n",
    "df = pd.read_csv('df_copy.csv', encoding='ISO-8859-1')\n",
    "df.dropna(inplace=True)\n",
    "df['satisfaction_num'] = df['satisfaction'].replace({'neutral or dissatisfied': 0, 'satisfied': 1})\n",
    "df['class_num'] = df['class'].replace({'Business': 1, 'Eco Plus': 2, 'Eco': 3})\n",
    "df['type_of_travel_num'] = df['type_of_travel'].replace({'Business travel': 1, 'Personal Travel': 0})\n",
    "\n",
    "features = ['class_num', 'type_of_travel_num', 'food_and_drink', 'online_boarding',\n",
    "            'seat_comfort', 'inflight_entertainment', 'on-board_service', 'leg_room_service',\n",
    "            'baggage_handling', 'checkin_service', 'inflight_service', 'cleanliness',\n",
    "            'departure_delay_in_minutes', 'arrival_delay_in_minutes']\n",
    "\n",
    "x = df[features]\n",
    "y = df['satisfaction_num']\n",
    "\n",
    "x_train, x_test, y_train, y_test = train_test_split(x, y, test_size=0.5, random_state=40)\n",
    "model = DecisionTreeClassifier(random_state=40)\n",
    "model.fit(x_train, y_train)\n",
    "y_pred = model.predict(x_test)\n",
    "\n",
    "feature_importance_dict = dict(zip(x_train.columns, model.feature_importances_))\n",
    "sorted_feature_importance = sorted(feature_importance_dict.items(), key=lambda item: item[1], reverse=True)\n",
    "\n",
    "\n",
    "def main_page():\n",
    "    st.title(\"Services Analysis\")\n",
    "    num_sorted_feature_importance = st.sidebar.slider('Select number of features to display', 1, 14, 7)\n",
    "\n",
    "    if st.sidebar.button('Check'):\n",
    "        features_selected = [item[0] for item in sorted_feature_importance[:num_sorted_feature_importance]]\n",
    "        importances = [item[1] for item in sorted_feature_importance[:num_sorted_feature_importance]]\n",
    "        custom_cmap = LinearSegmentedColormap.from_list(\"custom_green\", [\"#FEFAE0\", \"#4A703B\"])\n",
    "        colors = [custom_cmap(i / (num_sorted_feature_importance - 1)) for i in range(num_sorted_feature_importance)]\n",
    "        colors.reverse()\n",
    "\n",
    "        plt.figure(figsize=(10, 5))\n",
    "        plt.bar(features_selected, importances, color=colors)\n",
    "        style_plot(\"Top Feature Importances\", \"Features\", \"Importance\")\n",
    "        plt.xticks(rotation=90)\n",
    "        st.pyplot(plt)\n",
    "\n",
    "        mean_df = df.groupby('satisfaction')[['cleanliness','inflight_wifi_service','ease_of_online_booking','food_and_drink',\n",
    "            'online_boarding', 'seat_comfort','inflight_entertainment','on-board_service','leg_room_service',\n",
    "            'baggage_handling','checkin_service','inflight_service']].mean()\n",
    "\n",
    "        ordered_cols = mean_df.mean().sort_values(ascending=False).index.tolist()\n",
    "        for level in mean_df.index:\n",
    "            values = mean_df.loc[level][ordered_cols]\n",
    "            plt.figure(figsize=(10, 5))\n",
    "            custom_cmap = LinearSegmentedColormap.from_list(\"custom_green\", [\"#FEFAE0\", \"#4A703B\"])\n",
    "            colors = [custom_cmap(i / (num_sorted_feature_importance - 1)) for i in range(num_sorted_feature_importance)]\n",
    "            colors.reverse()\n",
    "            plt.bar(values.index, values.values, color=colors)\n",
    "            style_plot(f\"Satisfaction Level: {level}\", \"Service\", \"Average Score\")\n",
    "            plt.xticks(rotation=90)\n",
    "            plt.tight_layout()\n",
    "            st.pyplot(plt)\n",
    "\n",
    "def second_page():\n",
    "    st.title(\"Satisfaction Analysis\")\n",
    "    col1, col2 = st.columns(2)\n",
    "\n",
    "\n",
    "    plt.figure(figsize=(8, 6))\n",
    "    df.groupby('type_of_travel')['satisfaction_num'].mean().plot(kind='bar', color=sns.color_palette(\"YlGn\", 2))\n",
    "    style_plot(\"Customer Satisfaction by Type of Travel\", \"Type of Travel\", \"Satisfaction\")\n",
    "    st.pyplot(plt)\n",
    "\n",
    "    with col1:\n",
    "\n",
    "        satisfaction_counts = df['satisfaction'].value_counts()\n",
    "        custom_cmap = LinearSegmentedColormap.from_list(\"custom_green\", [\"#A4B465\", \"#FEFAE0\"])\n",
    "        colors = [custom_cmap(i / (len(satisfaction_counts) - 1)) for i in range(len(satisfaction_counts))]\n",
    "        fig = plt.figure(figsize=(6, 6))\n",
    "        fig.patch.set_facecolor('#626F47')\n",
    "        plt.pie(satisfaction_counts, labels=satisfaction_counts.index, autopct='%1.1f%%', colors=colors)\n",
    "        plt.title(\"Satisfaction Distribution\", color='#FFCF50')\n",
    "        st.pyplot(plt)\n",
    "\n",
    "        plt.figure(figsize=(8, 6))\n",
    "        df.groupby('type_of_travel')['satisfaction_num'].mean().plot(kind='bar', color=sns.color_palette(\"YlGn\", 2))\n",
    "        style_plot(\"Customer Satisfaction by Gender\", \"Gender\", \"Satisfaction\")\n",
    "        st.pyplot(plt)\n",
    "\n",
    "    with col2:\n",
    "\n",
    "        plt.figure(figsize=(8, 6))\n",
    "\n",
    "        df.groupby('type_of_travel')['satisfaction_num'].mean().plot(kind='bar', color=sns.color_palette(\"YlGn\", 2))\n",
    "        style_plot(\"Satisfaction by Customer Type\", \"Customer Type\", \"Satisfaction\")\n",
    "        st.pyplot(plt)\n",
    "\n",
    "\n",
    "        gender_counts = df['gender'].value_counts()\n",
    "        custom_cmap = LinearSegmentedColormap.from_list(\"custom_green\", [\"#A4B465\", \"#FEFAE0\"])\n",
    "        colors = [custom_cmap(i / (len(gender_counts) - 1)) for i in range(len(gender_counts))]\n",
    "        fig = plt.figure(figsize=(6, 6))\n",
    "        fig.patch.set_facecolor('#626F47')\n",
    "        plt.pie(gender_counts, labels=gender_counts.index, autopct='%1.1f%%',colors=colors)\n",
    "        plt.title(\"Gender Distribution\")\n",
    "        st.pyplot(plt)\n",
    "\n",
    "page = st.sidebar.selectbox(\"Select the type of analysis\", [\"Services Analysis\", \"Satisfaction  analysis\"])\n",
    "if page == \"Services Analysis\":\n",
    "    main_page()\n",
    "else:\n",
    "    second_page()\n"
   ]
  },
  {
   "cell_type": "code",
   "execution_count": 46,
   "id": "b445e919",
   "metadata": {},
   "outputs": [
    {
     "name": "stdout",
     "output_type": "stream",
     "text": [
      "^C\n"
     ]
    }
   ],
   "source": [
    "! streamlit run app.py"
   ]
  },
  {
   "cell_type": "code",
   "execution_count": 47,
   "id": "f5ff0163",
   "metadata": {},
   "outputs": [],
   "source": [
    "from pyngrok import ngrok\n",
    "ngrok.kill()\n",
    "NGROK_AUTH_TOKEN=\"2uMtr6R6MPfK4js0q2SS8OOX98M_Jpw4SAdZgLsjhc8PynCg\"\n",
    "ngrok.set_auth_token(NGROK_AUTH_TOKEN)"
   ]
  },
  {
   "cell_type": "code",
   "execution_count": 48,
   "id": "1bab840b",
   "metadata": {},
   "outputs": [
    {
     "data": {
      "text/plain": [
       "<NgrokTunnel: \"https://bb54-156-203-51-102.ngrok-free.app\" -> \"http://localhost:8521\">"
      ]
     },
     "execution_count": 48,
     "metadata": {},
     "output_type": "execute_result"
    }
   ],
   "source": [
    "ngrok.connect(8521)"
   ]
  },
  {
   "cell_type": "code",
   "execution_count": null,
   "id": "9a102579",
   "metadata": {},
   "outputs": [],
   "source": []
  }
 ],
 "metadata": {
  "kernelspec": {
   "display_name": "Python 3",
   "language": "python",
   "name": "python3"
  },
  "language_info": {
   "codemirror_mode": {
    "name": "ipython",
    "version": 3
   },
   "file_extension": ".py",
   "mimetype": "text/x-python",
   "name": "python",
   "nbconvert_exporter": "python",
   "pygments_lexer": "ipython3",
   "version": "3.10.4"
  }
 },
 "nbformat": 4,
 "nbformat_minor": 5
}
